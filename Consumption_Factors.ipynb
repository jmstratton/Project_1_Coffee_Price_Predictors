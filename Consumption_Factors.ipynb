{
 "cells": [
  {
   "cell_type": "code",
   "execution_count": 1,
   "metadata": {},
   "outputs": [],
   "source": [
    "# Dependencies\n",
    "import pandas as pd\n",
    "import numpy as np\n",
    "import matplotlib.pyplot as plt\n",
    "%matplotlib notebook"
   ]
  },
  {
   "cell_type": "code",
   "execution_count": 42,
   "metadata": {},
   "outputs": [],
   "source": [
    "# Upload CSV Files to work with\n",
    "Top_5_GDP = \"Resources/Data/Coffee_Consumption_Data/World_Statistics_International_Statistics_Chart_GDP.csv\"\n",
    "Top_5_Population = \"Resources/Data/Coffee_Consumption_Data/World_Statistics_International_Statistics_Chart_Total_Population.csv\"\n",
    "Top_5_Primary_Ed_Percent_Gross = \"Resources/Data/Coffee_Consumption_Data/World_Statistics_International_Statistics_Chart_School_Enrollment_Primary_Percent_Gross.csv\"\n",
    "Top_5_Secondary_Ed_Percent_Gross = \"Resources/Data/Coffee_Consumption_Data/World_Statistics_International_Statistics_Chart_School_Enrollment_Secondary_Percent_Gross.csv\"\n",
    "Top_5_Tertiary_Ed_Percent_Gross = \"Resources/Data/Coffee_Consumption_Data/World_Statistics_International_Statistics_Chart_School_Enrollment_Tertiary_Percent_Gross.csv\"\n",
    "\n",
    "# Read CSV Files and encode\n",
    "Top_5_GDP_df = pd.read_csv(Top_5_GDP, encoding=\"ISO-8859-1\")\n",
    "Top_5_Pop_df = pd.read_csv(Top_5_Population, encoding=\"ISO-8859-1\")\n",
    "Top_5_Primary_Ed_df = pd.read_csv(Top_5_Primary_Ed_Percent_Gross, encoding=\"ISO-8859-1\")\n",
    "Top_5_Secondary_Ed_df = pd.read_csv(Top_5_Secondary_Ed_Percent_Gross, encoding=\"ISO-8859-1\")\n",
    "Top_5_Tertiary_Ed_df = pd.read_csv(Top_5_Tertiary_Ed_Percent_Gross, encoding=\"ISO-8859-1\")\n",
    "\n",
    "#Create DataFrames for all csv files\n",
    "Top_5_GDP_df = pd.DataFrame(Top_5_GDP_df)\n",
    "Top_5_Pop_df = pd.DataFrame(Top_5_Pop_df)\n",
    "Top_5_Primary_Ed_df = pd.DataFrame(Top_5_Primary_Ed_df)\n",
    "Top_5_Secondary_Ed_df = pd.DataFrame(Top_5_Secondary_Ed_df)\n",
    "Top_5_Tertiary_Ed_df = pd.DataFrame(Top_5_Tertiary_Ed_df)"
   ]
  },
  {
   "cell_type": "code",
   "execution_count": 3,
   "metadata": {},
   "outputs": [
    {
     "data": {
      "text/plain": [
       "Index(['Country', '1960', '1961', '1962', '1963', '1964', '1965', '1966',\n",
       "       '1967', '1968', '1969', '1970', '1971', '1972', '1973', '1974', '1975',\n",
       "       '1976', '1977', '1978', '1979', '1980', '1981', '1982', '1983', '1984',\n",
       "       '1985', '1986', '1987', '1988', '1989', '1990', '1991', '1992', '1993',\n",
       "       '1994', '1995', '1996', '1997', '1998', '1999', '2000', '2001', '2002',\n",
       "       '2003', '2004', '2005', '2006', '2007', '2008', '2009', '2010', '2011',\n",
       "       '2012', '2013', '2014', '2015', '2016'],\n",
       "      dtype='object')"
      ]
     },
     "execution_count": 3,
     "metadata": {},
     "output_type": "execute_result"
    }
   ],
   "source": [
    "# Population DataFrame\n",
    "Top_5_Pop_df.columns"
   ]
  },
  {
   "cell_type": "code",
   "execution_count": 12,
   "metadata": {
    "scrolled": true
   },
   "outputs": [
    {
     "data": {
      "text/html": [
       "<div>\n",
       "<style scoped>\n",
       "    .dataframe tbody tr th:only-of-type {\n",
       "        vertical-align: middle;\n",
       "    }\n",
       "\n",
       "    .dataframe tbody tr th {\n",
       "        vertical-align: top;\n",
       "    }\n",
       "\n",
       "    .dataframe thead th {\n",
       "        text-align: right;\n",
       "    }\n",
       "</style>\n",
       "<table border=\"1\" class=\"dataframe\">\n",
       "  <thead>\n",
       "    <tr style=\"text-align: right;\">\n",
       "      <th>Country</th>\n",
       "      <th>Brazil</th>\n",
       "      <th>European Union</th>\n",
       "      <th>Japan</th>\n",
       "      <th>Philippines</th>\n",
       "      <th>United States of America</th>\n",
       "      <th>World</th>\n",
       "    </tr>\n",
       "  </thead>\n",
       "  <tbody>\n",
       "    <tr>\n",
       "      <th>2012</th>\n",
       "      <td>200560983</td>\n",
       "      <td>505104333</td>\n",
       "      <td>127629000</td>\n",
       "      <td>96866642</td>\n",
       "      <td>313998379</td>\n",
       "      <td>7099548883</td>\n",
       "    </tr>\n",
       "    <tr>\n",
       "      <th>2013</th>\n",
       "      <td>202408632</td>\n",
       "      <td>506592460</td>\n",
       "      <td>127445000</td>\n",
       "      <td>98481032</td>\n",
       "      <td>316204908</td>\n",
       "      <td>7185078354</td>\n",
       "    </tr>\n",
       "    <tr>\n",
       "      <th>2014</th>\n",
       "      <td>204213133</td>\n",
       "      <td>508157249</td>\n",
       "      <td>127276000</td>\n",
       "      <td>100102249</td>\n",
       "      <td>318563456</td>\n",
       "      <td>7271228018</td>\n",
       "    </tr>\n",
       "    <tr>\n",
       "      <th>2015</th>\n",
       "      <td>205962108</td>\n",
       "      <td>509670169</td>\n",
       "      <td>127141000</td>\n",
       "      <td>101716359</td>\n",
       "      <td>320896618</td>\n",
       "      <td>7357369754</td>\n",
       "    </tr>\n",
       "    <tr>\n",
       "      <th>2016</th>\n",
       "      <td>207652865</td>\n",
       "      <td>511360932</td>\n",
       "      <td>126994511</td>\n",
       "      <td>103320222</td>\n",
       "      <td>323127513</td>\n",
       "      <td>7444027227</td>\n",
       "    </tr>\n",
       "  </tbody>\n",
       "</table>\n",
       "</div>"
      ],
      "text/plain": [
       "Country     Brazil  European Union      Japan  Philippines  \\\n",
       "2012     200560983       505104333  127629000     96866642   \n",
       "2013     202408632       506592460  127445000     98481032   \n",
       "2014     204213133       508157249  127276000    100102249   \n",
       "2015     205962108       509670169  127141000    101716359   \n",
       "2016     207652865       511360932  126994511    103320222   \n",
       "\n",
       "Country  United States of America       World  \n",
       "2012                    313998379  7099548883  \n",
       "2013                    316204908  7185078354  \n",
       "2014                    318563456  7271228018  \n",
       "2015                    320896618  7357369754  \n",
       "2016                    323127513  7444027227  "
      ]
     },
     "execution_count": 12,
     "metadata": {},
     "output_type": "execute_result"
    }
   ],
   "source": [
    "# Population for 5 years only\n",
    "Top_5_Pop_5_Years = Top_5_Pop_df[[\"Country\", \"2012\", \"2013\", \"2014\", \"2015\", \"2016\"]]\n",
    "Top_5_Pop_5_Years = Top_5_Pop_5_Years.set_index(\"Country\")\n",
    "Top_5_Pop_5_Years = Top_5_Pop_5_Years.T\n",
    "Top_5_Pop_5_Years.head()"
   ]
  },
  {
   "cell_type": "code",
   "execution_count": 24,
   "metadata": {
    "scrolled": true
   },
   "outputs": [
    {
     "data": {
      "text/html": [
       "<div>\n",
       "<style scoped>\n",
       "    .dataframe tbody tr th:only-of-type {\n",
       "        vertical-align: middle;\n",
       "    }\n",
       "\n",
       "    .dataframe tbody tr th {\n",
       "        vertical-align: top;\n",
       "    }\n",
       "\n",
       "    .dataframe thead th {\n",
       "        text-align: right;\n",
       "    }\n",
       "</style>\n",
       "<table border=\"1\" class=\"dataframe\">\n",
       "  <thead>\n",
       "    <tr style=\"text-align: right;\">\n",
       "      <th></th>\n",
       "      <th>Brazil</th>\n",
       "      <th>EU</th>\n",
       "      <th>Japan</th>\n",
       "      <th>Philippines</th>\n",
       "      <th>US</th>\n",
       "      <th>World</th>\n",
       "    </tr>\n",
       "  </thead>\n",
       "  <tbody>\n",
       "    <tr>\n",
       "      <th>0</th>\n",
       "      <td>204159544.2</td>\n",
       "      <td>508177028.6</td>\n",
       "      <td>127297102.2</td>\n",
       "      <td>100097300.8</td>\n",
       "      <td>318558174.8</td>\n",
       "      <td>7.271450e+09</td>\n",
       "    </tr>\n",
       "  </tbody>\n",
       "</table>\n",
       "</div>"
      ],
      "text/plain": [
       "        Brazil           EU        Japan  Philippines           US  \\\n",
       "0  204159544.2  508177028.6  127297102.2  100097300.8  318558174.8   \n",
       "\n",
       "          World  \n",
       "0  7.271450e+09  "
      ]
     },
     "execution_count": 24,
     "metadata": {},
     "output_type": "execute_result"
    }
   ],
   "source": [
    "#Get the average for each country\n",
    "\n",
    "Avg_Brazil_Pop = Top_5_Pop_5_Years[\"Brazil\"].mean()\n",
    "Avg_EU_Pop = Top_5_Pop_5_Years[\"European Union\"].mean()\n",
    "Avg_Japan_Pop = Top_5_Pop_5_Years[\"Japan\"].mean()\n",
    "Avg_Philippines_Pop = Top_5_Pop_5_Years[\"Philippines\"].mean()\n",
    "Avg_US_Pop = Top_5_Pop_5_Years[\"United States of America\"].mean()\n",
    "Avg_World_Pop = Top_5_Pop_5_Years[\"World\"].mean()\n",
    "\n",
    "#Create DataFrame for Averages\n",
    "Average_Population = pd.DataFrame({\"Brazil\":[Avg_Brazil_Pop],\n",
    "                                    \"European Union\":[Avg_EU_Pop],\n",
    "                                    \"Japan\":[Avg_Japan_Pop],\n",
    "                                    \"Philippines\":[Avg_Philippines_Pop],\n",
    "                                    \"United States of America\":[Avg_US_Pop],\n",
    "                                    \"World\":[Avg_World_Pop]})\n",
    "                                    \n",
    "Average_Population = Average_Population[[\"Brazil\",\n",
    "\"European Union\",\n",
    "\"Japan\",\n",
    "\"Philippines\",\n",
    "\"United States of America\",\n",
    "\"World\"]]\n",
    "\n",
    "#Rename columns\n",
    "Average_Population = Average_Population.rename(columns={\"United States of America\":\"US\", \"European Union\":\"EU\"})\n",
    "Average_Population = Average_Population.reset_index(drop=True)\n",
    "\n",
    "Average_Population.head()                                   "
   ]
  },
  {
   "cell_type": "code",
   "execution_count": 78,
   "metadata": {},
   "outputs": [
    {
     "data": {
      "image/png": "[encoded data removed]",
      "text/plain": [
       "<matplotlib.figure.Figure at 0x250e5db60b8>"
      ]
     },
     "metadata": {},
     "output_type": "display_data"
    }
   ],
   "source": [
    "#Plot Data\n",
    "\n",
    "Countries = [\"Brazil\", \"EU\", \"Japan\", \"Philippines\",\"US\"]\n",
    "Population = [204159544.2, 508177028.6, 127297102.2, 100097300.8, 318558174.8]\n",
    "colors = [\"khaki\",  \"peru\", \"chocolate\", \"sienna\", \"saddlebrown\"]\n",
    "plt.xlabel( \"People (in hundred millions)\" )\n",
    "plt.ylabel( \"Countries\" )\n",
    "x = range(len(Population))\n",
    "plt.title(\"Populations of the Top 5 Coffee Consuming Countries (by Volume)\")\n",
    "plt.barh(Countries, Population, color=colors, alpha=0.5, align=\"center\")\n",
    "plt.savefig(\"C:/Users/Jill Stratton/Desktop/Project_1_Coffee_Price_Predictors/Analysis/Population.png\")\n",
    "plt.show()"
   ]
  },
  {
   "cell_type": "code",
   "execution_count": 47,
   "metadata": {},
   "outputs": [
    {
     "data": {
      "text/html": [
       "<div>\n",
       "<style scoped>\n",
       "    .dataframe tbody tr th:only-of-type {\n",
       "        vertical-align: middle;\n",
       "    }\n",
       "\n",
       "    .dataframe tbody tr th {\n",
       "        vertical-align: top;\n",
       "    }\n",
       "\n",
       "    .dataframe thead th {\n",
       "        text-align: right;\n",
       "    }\n",
       "</style>\n",
       "<table border=\"1\" class=\"dataframe\">\n",
       "  <thead>\n",
       "    <tr style=\"text-align: right;\">\n",
       "      <th>Country</th>\n",
       "      <th>Brazil</th>\n",
       "      <th>European Union</th>\n",
       "      <th>Japan</th>\n",
       "      <th>Philippines</th>\n",
       "      <th>United States of America</th>\n",
       "      <th>World</th>\n",
       "    </tr>\n",
       "  </thead>\n",
       "  <tbody>\n",
       "    <tr>\n",
       "      <th>2012</th>\n",
       "      <td>2465190000000</td>\n",
       "      <td>17290200000000</td>\n",
       "      <td>6203210000000</td>\n",
       "      <td>250092000000</td>\n",
       "      <td>16155300000000</td>\n",
       "      <td>74890500000000</td>\n",
       "    </tr>\n",
       "    <tr>\n",
       "      <th>2013</th>\n",
       "      <td>2472810000000</td>\n",
       "      <td>18026800000000</td>\n",
       "      <td>5155720000000</td>\n",
       "      <td>271836000000</td>\n",
       "      <td>16691500000000</td>\n",
       "      <td>76993000000000</td>\n",
       "    </tr>\n",
       "    <tr>\n",
       "      <th>2014</th>\n",
       "      <td>2455990000000</td>\n",
       "      <td>18632300000000</td>\n",
       "      <td>4850410000000</td>\n",
       "      <td>284585000000</td>\n",
       "      <td>17427600000000</td>\n",
       "      <td>79090900000000</td>\n",
       "    </tr>\n",
       "    <tr>\n",
       "      <th>2015</th>\n",
       "      <td>1803650000000</td>\n",
       "      <td>16411300000000</td>\n",
       "      <td>4394980000000</td>\n",
       "      <td>292774000000</td>\n",
       "      <td>18120700000000</td>\n",
       "      <td>74781900000000</td>\n",
       "    </tr>\n",
       "    <tr>\n",
       "      <th>2016</th>\n",
       "      <td>1796190000000</td>\n",
       "      <td>16491300000000</td>\n",
       "      <td>4949270000000</td>\n",
       "      <td>304905000000</td>\n",
       "      <td>18624500000000</td>\n",
       "      <td>75871700000000</td>\n",
       "    </tr>\n",
       "  </tbody>\n",
       "</table>\n",
       "</div>"
      ],
      "text/plain": [
       "Country         Brazil  European Union          Japan   Philippines  \\\n",
       "2012     2465190000000  17290200000000  6203210000000  250092000000   \n",
       "2013     2472810000000  18026800000000  5155720000000  271836000000   \n",
       "2014     2455990000000  18632300000000  4850410000000  284585000000   \n",
       "2015     1803650000000  16411300000000  4394980000000  292774000000   \n",
       "2016     1796190000000  16491300000000  4949270000000  304905000000   \n",
       "\n",
       "Country  United States of America           World  \n",
       "2012               16155300000000  74890500000000  \n",
       "2013               16691500000000  76993000000000  \n",
       "2014               17427600000000  79090900000000  \n",
       "2015               18120700000000  74781900000000  \n",
       "2016               18624500000000  75871700000000  "
      ]
     },
     "execution_count": 47,
     "metadata": {},
     "output_type": "execute_result"
    }
   ],
   "source": [
    "# GDP DataFrame\n",
    "Top_5_GDP_df.head(10)\n",
    "Top_5_GDP_5_Years = Top_5_GDP_df[[\"Country\", \"2012\", \"2013\", \"2014\", \"2015\", \"2016\"]]\n",
    "Top_5_GDP_5_Years = Top_5_GDP_5_Years.set_index(\"Country\")\n",
    "Top_5_GDP_5_Years = Top_5_GDP_5_Years.T\n",
    "Top_5_GDP_5_Years.head()"
   ]
  },
  {
   "cell_type": "code",
   "execution_count": 55,
   "metadata": {},
   "outputs": [
    {
     "data": {
      "text/html": [
       "<div>\n",
       "<style scoped>\n",
       "    .dataframe tbody tr th:only-of-type {\n",
       "        vertical-align: middle;\n",
       "    }\n",
       "\n",
       "    .dataframe tbody tr th {\n",
       "        vertical-align: top;\n",
       "    }\n",
       "\n",
       "    .dataframe thead th {\n",
       "        text-align: right;\n",
       "    }\n",
       "</style>\n",
       "<table border=\"1\" class=\"dataframe\">\n",
       "  <thead>\n",
       "    <tr style=\"text-align: right;\">\n",
       "      <th></th>\n",
       "      <th>Brazil</th>\n",
       "      <th>EU</th>\n",
       "      <th>Japan</th>\n",
       "      <th>Philippines</th>\n",
       "      <th>US</th>\n",
       "      <th>World</th>\n",
       "    </tr>\n",
       "  </thead>\n",
       "  <tbody>\n",
       "    <tr>\n",
       "      <th>0</th>\n",
       "      <td>2198766.0</td>\n",
       "      <td>17370380.0</td>\n",
       "      <td>5110718.0</td>\n",
       "      <td>280838.4</td>\n",
       "      <td>17403920.0</td>\n",
       "      <td>76325600.0</td>\n",
       "    </tr>\n",
       "  </tbody>\n",
       "</table>\n",
       "</div>"
      ],
      "text/plain": [
       "      Brazil          EU      Japan  Philippines          US       World\n",
       "0  2198766.0  17370380.0  5110718.0     280838.4  17403920.0  76325600.0"
      ]
     },
     "execution_count": 55,
     "metadata": {},
     "output_type": "execute_result"
    }
   ],
   "source": [
    "#Get the average for each country\n",
    "\n",
    "Avg_Brazil_GDP = Top_5_GDP_5_Years[\"Brazil\"].mean()/1000000\n",
    "Avg_EU_GDP = Top_5_GDP_5_Years[\"European Union\"].mean()/1000000\n",
    "Avg_Japan_GDP = Top_5_GDP_5_Years[\"Japan\"].mean()/1000000\n",
    "Avg_Philippines_GDP = Top_5_GDP_5_Years[\"Philippines\"].mean()/1000000\n",
    "Avg_US_GDP = Top_5_GDP_5_Years[\"United States of America\"].mean()/1000000\n",
    "Avg_World_GDP = Top_5_GDP_5_Years[\"World\"].mean()/1000000\n",
    "\n",
    "#Create DataFrame for Averages\n",
    "Average_GDP = pd.DataFrame({\"Brazil\":[Avg_Brazil_GDP],\n",
    "                                    \"European Union\":[Avg_EU_GDP],\n",
    "                                    \"Japan\":[Avg_Japan_GDP],\n",
    "                                    \"Philippines\":[Avg_Philippines_GDP],\n",
    "                                    \"United States of America\":[Avg_US_GDP],\n",
    "                                    \"World\":[Avg_World_GDP]})\n",
    "\n",
    "Average_GDP = Average_GDP[[\"Brazil\",\n",
    "\"European Union\",\n",
    "\"Japan\",\n",
    "\"Philippines\",\n",
    "\"United States of America\",\n",
    "\"World\"]]\n",
    "\n",
    "#Rename columns\n",
    "Average_GDP = Average_GDP.rename(columns={\"United States of America\":\"US\", \"European Union\":\"EU\"})\n",
    "Average_GDP = Average_GDP.reset_index(drop=True)\n",
    "\n",
    "Average_GDP.head()                                   "
   ]
  },
  {
   "cell_type": "code",
   "execution_count": 77,
   "metadata": {
    "scrolled": true
   },
   "outputs": [
    {
     "data": {
      "image/png": "[encoded data removed]",
      "text/plain": [
       "<matplotlib.figure.Figure at 0x250e5332978>"
      ]
     },
     "metadata": {},
     "output_type": "display_data"
    }
   ],
   "source": [
    "#Plot Data\n",
    "\n",
    "Countries = [\"Brazil\", \"EU\", \"Japan\", \"Philippines\",\"US\"]\n",
    "GDPinMil = [219876.6, 1737038.0, 511071.8, 28083.84, 1740392.0]\n",
    "colors = [\"khaki\",  \"peru\", \"chocolate\", \"sienna\", \"saddlebrown\"]\n",
    "plt.xlabel( \"Average GDP-USD (in millions)\" )\n",
    "plt.ylabel( \"Countries\" )\n",
    "x = range(len(GDPinMil))\n",
    "plt.title(\"Average GDP of the Top 5 Coffee Consuming Countries (by Volume)\")\n",
    "plt.barh(Countries, GDPinMil, color=colors, alpha=0.5, align=\"center\")\n",
    "plt.savefig(\"C:/Users/Jill Stratton/Desktop/Project_1_Coffee_Price_Predictors/Analysis/GDP.png\")\n",
    "plt.show()"
   ]
  },
  {
   "cell_type": "code",
   "execution_count": 67,
   "metadata": {},
   "outputs": [
    {
     "data": {
      "text/html": [
       "<div>\n",
       "<style scoped>\n",
       "    .dataframe tbody tr th:only-of-type {\n",
       "        vertical-align: middle;\n",
       "    }\n",
       "\n",
       "    .dataframe tbody tr th {\n",
       "        vertical-align: top;\n",
       "    }\n",
       "\n",
       "    .dataframe thead th {\n",
       "        text-align: right;\n",
       "    }\n",
       "</style>\n",
       "<table border=\"1\" class=\"dataframe\">\n",
       "  <thead>\n",
       "    <tr style=\"text-align: right;\">\n",
       "      <th>Country</th>\n",
       "      <th>Brazil</th>\n",
       "      <th>European Union</th>\n",
       "      <th>Japan</th>\n",
       "      <th>Philippines</th>\n",
       "      <th>United States of America</th>\n",
       "      <th>World</th>\n",
       "    </tr>\n",
       "  </thead>\n",
       "  <tbody>\n",
       "    <tr>\n",
       "      <th>2015</th>\n",
       "      <td>99.7</td>\n",
       "      <td>112.0</td>\n",
       "      <td>102.1</td>\n",
       "      <td>88.3</td>\n",
       "      <td>97.2</td>\n",
       "      <td>76.2</td>\n",
       "    </tr>\n",
       "  </tbody>\n",
       "</table>\n",
       "</div>"
      ],
      "text/plain": [
       "Country  Brazil  European Union  Japan  Philippines  United States of America  \\\n",
       "2015       99.7           112.0  102.1         88.3                      97.2   \n",
       "\n",
       "Country  World  \n",
       "2015      76.2  "
      ]
     },
     "execution_count": 67,
     "metadata": {},
     "output_type": "execute_result"
    }
   ],
   "source": [
    "Top_5_Secondary_Ed_df.head()\n",
    "Top_5_2ndary = Top_5_Secondary_Ed_df[[\"Country\",\"2015\"]]\n",
    "Top_5_2ndary = Top_5_2ndary.set_index(\"Country\")\n",
    "Top_5_2ndary = Top_5_2ndary.T\n",
    "Top_5_2ndary.head()"
   ]
  },
  {
   "cell_type": "code",
   "execution_count": 76,
   "metadata": {},
   "outputs": [
    {
     "data": {
      "image/png": "[encoded data removed]",
      "text/plain": [
       "<matplotlib.figure.Figure at 0x250e53324e0>"
      ]
     },
     "metadata": {},
     "output_type": "display_data"
    }
   ],
   "source": [
    " #Plot Data\n",
    "\n",
    "Countries = [\"Brazil\", \"EU\", \"Japan\", \"Philippines\",\"US\", \"World\"]\n",
    "Percent2ndary = [99.7, 112, 102.1, 88.3, 97.2, 76.2]\n",
    "colors = [\"khaki\",  \"peru\", \"chocolate\", \"sienna\", \"saddlebrown\", \"cyan\"]\n",
    "plt.xlabel( \"% of Population\" )\n",
    "plt.ylabel( \"Countries\" )\n",
    "x = range(len(Percent2ndary))\n",
    "plt.title(\"% Population in Secondary School (Requires Primary)\")\n",
    "plt.bar(Countries, Percent2ndary, color=colors, alpha=0.5, align=\"center\")\n",
    "plt.savefig(\"C:/Users/Jill Stratton/Desktop/Project_1_Coffee_Price_Predictors/Analysis/Education.png\")\n",
    "plt.show()                  "
   ]
  },
  {
   "cell_type": "code",
   "execution_count": null,
   "metadata": {},
   "outputs": [],
   "source": []
  }
 ],
 "metadata": {
  "kernelspec": {
   "display_name": "Python 3",
   "language": "python",
   "name": "python3"
  },
  "language_info": {
   "codemirror_mode": {
    "name": "ipython",
    "version": 3
   },
   "file_extension": ".py",
   "mimetype": "text/x-python",
   "name": "python",
   "nbconvert_exporter": "python",
   "pygments_lexer": "ipython3",
   "version": "3.6.4"
  }
 },
 "nbformat": 4,
 "nbformat_minor": 2
}
