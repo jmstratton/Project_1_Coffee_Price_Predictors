{
 "cells": [
  {
   "cell_type": "code",
   "execution_count": 1,
   "metadata": {},
   "outputs": [],
   "source": [
    "# Dependencies\n",
    "import pandas as pd\n",
    "import numpy as np\n",
    "import matplotlib.pyplot as plt\n",
    "%matplotlib notebook"
   ]
  },
  {
   "cell_type": "code",
   "execution_count": 2,
   "metadata": {},
   "outputs": [],
   "source": [
    "# Upload CSV Files to work with\n",
    "Domestic_Consumption = \"Resources/Data/Coffee_Consumption_Data/Domestic_Consumption.csv\"\n",
    "Rst_Grnd_Dom_Consum = \"Resources/Data/Coffee_Consumption_Data/Rst_Grnd_Domestic_Consumption.csv\"\n",
    "\n",
    "# Read CSV Files and encode\n",
    "Domestic_Consumption_df = pd.read_csv(Domestic_Consumption, encoding=\"ISO-8859-1\")\n",
    "Rst_Grnd_Dom_Consum_df = pd.read_csv(Rst_Grnd_Dom_Consum, encoding=\"ISO-8859-1\")\n",
    "\n",
    "#Create DataFrames for all csv files\n",
    "Domestic_Consumption_df = pd.DataFrame(Domestic_Consumption_df)\n",
    "Rst_Grnd_Dom_Consum_df = pd.DataFrame(Rst_Grnd_Dom_Consum_df)"
   ]
  },
  {
   "cell_type": "code",
   "execution_count": 3,
   "metadata": {},
   "outputs": [
    {
     "data": {
      "text/html": [
       "<div>\n",
       "<style scoped>\n",
       "    .dataframe tbody tr th:only-of-type {\n",
       "        vertical-align: middle;\n",
       "    }\n",
       "\n",
       "    .dataframe tbody tr th {\n",
       "        vertical-align: top;\n",
       "    }\n",
       "\n",
       "    .dataframe thead th {\n",
       "        text-align: right;\n",
       "    }\n",
       "</style>\n",
       "<table border=\"1\" class=\"dataframe\">\n",
       "  <thead>\n",
       "    <tr style=\"text-align: right;\">\n",
       "      <th></th>\n",
       "      <th>Commodity_Code</th>\n",
       "      <th>Commodity_Description</th>\n",
       "      <th>Country_Code</th>\n",
       "      <th>Country_Name</th>\n",
       "      <th>Market_Year</th>\n",
       "      <th>Calendar_Year</th>\n",
       "      <th>Month</th>\n",
       "      <th>Attribute_ID</th>\n",
       "      <th>Attribute_Description</th>\n",
       "      <th>Unit_ID</th>\n",
       "      <th>Unit_Description</th>\n",
       "      <th>Value</th>\n",
       "    </tr>\n",
       "  </thead>\n",
       "  <tbody>\n",
       "    <tr>\n",
       "      <th>0</th>\n",
       "      <td>711100</td>\n",
       "      <td>Coffee, Green</td>\n",
       "      <td>BR</td>\n",
       "      <td>Brazil</td>\n",
       "      <td>2012</td>\n",
       "      <td>2013</td>\n",
       "      <td>6</td>\n",
       "      <td>125</td>\n",
       "      <td>Domestic Consumption</td>\n",
       "      <td>2</td>\n",
       "      <td>(1000 60 KG BAGS)</td>\n",
       "      <td>20025</td>\n",
       "    </tr>\n",
       "    <tr>\n",
       "      <th>1</th>\n",
       "      <td>711100</td>\n",
       "      <td>Coffee, Green</td>\n",
       "      <td>BR</td>\n",
       "      <td>Brazil</td>\n",
       "      <td>2013</td>\n",
       "      <td>2014</td>\n",
       "      <td>6</td>\n",
       "      <td>125</td>\n",
       "      <td>Domestic Consumption</td>\n",
       "      <td>2</td>\n",
       "      <td>(1000 60 KG BAGS)</td>\n",
       "      <td>20110</td>\n",
       "    </tr>\n",
       "    <tr>\n",
       "      <th>2</th>\n",
       "      <td>711100</td>\n",
       "      <td>Coffee, Green</td>\n",
       "      <td>BR</td>\n",
       "      <td>Brazil</td>\n",
       "      <td>2014</td>\n",
       "      <td>2018</td>\n",
       "      <td>6</td>\n",
       "      <td>125</td>\n",
       "      <td>Domestic Consumption</td>\n",
       "      <td>2</td>\n",
       "      <td>(1000 60 KG BAGS)</td>\n",
       "      <td>20210</td>\n",
       "    </tr>\n",
       "    <tr>\n",
       "      <th>3</th>\n",
       "      <td>711100</td>\n",
       "      <td>Coffee, Green</td>\n",
       "      <td>BR</td>\n",
       "      <td>Brazil</td>\n",
       "      <td>2015</td>\n",
       "      <td>2018</td>\n",
       "      <td>6</td>\n",
       "      <td>125</td>\n",
       "      <td>Domestic Consumption</td>\n",
       "      <td>2</td>\n",
       "      <td>(1000 60 KG BAGS)</td>\n",
       "      <td>20420</td>\n",
       "    </tr>\n",
       "    <tr>\n",
       "      <th>4</th>\n",
       "      <td>711100</td>\n",
       "      <td>Coffee, Green</td>\n",
       "      <td>BR</td>\n",
       "      <td>Brazil</td>\n",
       "      <td>2016</td>\n",
       "      <td>2018</td>\n",
       "      <td>6</td>\n",
       "      <td>125</td>\n",
       "      <td>Domestic Consumption</td>\n",
       "      <td>2</td>\n",
       "      <td>(1000 60 KG BAGS)</td>\n",
       "      <td>20855</td>\n",
       "    </tr>\n",
       "  </tbody>\n",
       "</table>\n",
       "</div>"
      ],
      "text/plain": [
       "   Commodity_Code Commodity_Description Country_Code Country_Name  \\\n",
       "0          711100         Coffee, Green           BR       Brazil   \n",
       "1          711100         Coffee, Green           BR       Brazil   \n",
       "2          711100         Coffee, Green           BR       Brazil   \n",
       "3          711100         Coffee, Green           BR       Brazil   \n",
       "4          711100         Coffee, Green           BR       Brazil   \n",
       "\n",
       "   Market_Year  Calendar_Year  Month  Attribute_ID Attribute_Description  \\\n",
       "0         2012           2013      6           125  Domestic Consumption   \n",
       "1         2013           2014      6           125  Domestic Consumption   \n",
       "2         2014           2018      6           125  Domestic Consumption   \n",
       "3         2015           2018      6           125  Domestic Consumption   \n",
       "4         2016           2018      6           125  Domestic Consumption   \n",
       "\n",
       "   Unit_ID   Unit_Description  Value  \n",
       "0        2  (1000 60 KG BAGS)  20025  \n",
       "1        2  (1000 60 KG BAGS)  20110  \n",
       "2        2  (1000 60 KG BAGS)  20210  \n",
       "3        2  (1000 60 KG BAGS)  20420  \n",
       "4        2  (1000 60 KG BAGS)  20855  "
      ]
     },
     "execution_count": 3,
     "metadata": {},
     "output_type": "execute_result"
    }
   ],
   "source": [
    "#First Dataframe\n",
    "Domestic_Consumption_df.head()"
   ]
  },
  {
   "cell_type": "code",
   "execution_count": 37,
   "metadata": {},
   "outputs": [],
   "source": [
    "# Separate each country to create plots\n",
    "Brazil_DomConsumption = Domestic_Consumption_df.loc[(Domestic_Consumption_df['Country_Name'] == \"Brazil\")]\n",
    "EU_DomConsumption = Domestic_Consumption_df.loc[(Domestic_Consumption_df['Country_Name'] == \"European Union\")]\n",
    "Japan_DomConsumption = Domestic_Consumption_df.loc[(Domestic_Consumption_df['Country_Name'] == \"Japan\")]\n",
    "Philippines_DomConsumption = Domestic_Consumption_df.loc[(Domestic_Consumption_df['Country_Name'] == \"Philippines\")]\n",
    "US_DomConsumption = Domestic_Consumption_df.loc[(Domestic_Consumption_df['Country_Name'] == \"United States\")]\n",
    "    "
   ]
  },
  {
   "cell_type": "code",
   "execution_count": 73,
   "metadata": {
    "scrolled": true
   },
   "outputs": [
    {
     "data": {
      "text/plain": [
       "<matplotlib.figure.Figure at 0x1eab484b198>"
      ]
     },
     "metadata": {},
     "output_type": "display_data"
    },
    {
     "data": {
      "image/png": "[encoded data removed]",
      "text/plain": [
       "<matplotlib.figure.Figure at 0x1eab484b208>"
      ]
     },
     "metadata": {},
     "output_type": "display_data"
    }
   ],
   "source": [
    "# Create plots for each country\n",
    "fig = plt.figure()\n",
    "plt.figure(figsize=(8, 5))\n",
    "ax = plt.axes()\n",
    "\n",
    "EU_DomConsumption.plot(x='Market_Year', y = 'Value', color = \"khaki\", label = \"European Union\", ax=ax, linewidth=7)\n",
    "US_DomConsumption.plot(x='Market_Year', y = 'Value', color = \"peru\", label = \"United States\", ax=ax, linewidth=7)\n",
    "Brazil_DomConsumption.plot(x=\"Market_Year\", y = \"Value\", color = \"chocolate\", label = \"Brazil\", ax=ax, linewidth=7)\n",
    "Japan_DomConsumption.plot(x='Market_Year', y = 'Value', color = \"sienna\", label = \"Japan\", ax=ax, linewidth=7)\n",
    "Philippines_DomConsumption.plot(x='Market_Year', y = 'Value', color = \"saddlebrown\", label = \"Phillipines\", ax=ax, linewidth=7)\n",
    "\n",
    "plt.title(\"Total Domestic Coffee Consumption: Top 5 Countries\")\n",
    "plt.xlabel(\"Market Year\")\n",
    "plt.ylabel(\"Amnt of 1,000 60k Bags\")\n",
    "\n",
    "\n",
    "# Show the chart\n",
    "plt.savefig(\"C:/Users/Jill Stratton/Desktop/Project_1_Coffee_Price_Predictors/Analysis/Domestic_Consumption.png\")\n",
    "plt.show()"
   ]
  },
  {
   "cell_type": "code",
   "execution_count": 6,
   "metadata": {
    "scrolled": true
   },
   "outputs": [
    {
     "data": {
      "text/html": [
       "<div>\n",
       "<style scoped>\n",
       "    .dataframe tbody tr th:only-of-type {\n",
       "        vertical-align: middle;\n",
       "    }\n",
       "\n",
       "    .dataframe tbody tr th {\n",
       "        vertical-align: top;\n",
       "    }\n",
       "\n",
       "    .dataframe thead th {\n",
       "        text-align: right;\n",
       "    }\n",
       "</style>\n",
       "<table border=\"1\" class=\"dataframe\">\n",
       "  <thead>\n",
       "    <tr style=\"text-align: right;\">\n",
       "      <th></th>\n",
       "      <th>Commodity_Code</th>\n",
       "      <th>Commodity_Description</th>\n",
       "      <th>Country_Code</th>\n",
       "      <th>Country_Name</th>\n",
       "      <th>Market_Year</th>\n",
       "      <th>Calendar_Year</th>\n",
       "      <th>Month</th>\n",
       "      <th>Attribute_ID</th>\n",
       "      <th>Attribute_Description</th>\n",
       "      <th>Unit_ID</th>\n",
       "      <th>Unit_Description</th>\n",
       "      <th>Value</th>\n",
       "    </tr>\n",
       "  </thead>\n",
       "  <tbody>\n",
       "    <tr>\n",
       "      <th>0</th>\n",
       "      <td>711100</td>\n",
       "      <td>Coffee, Green</td>\n",
       "      <td>BR</td>\n",
       "      <td>Brazil</td>\n",
       "      <td>2012</td>\n",
       "      <td>2013</td>\n",
       "      <td>6</td>\n",
       "      <td>141</td>\n",
       "      <td>Rst,Ground Dom. Consum</td>\n",
       "      <td>2</td>\n",
       "      <td>(1000 60 KG BAGS)</td>\n",
       "      <td>18905</td>\n",
       "    </tr>\n",
       "    <tr>\n",
       "      <th>1</th>\n",
       "      <td>711100</td>\n",
       "      <td>Coffee, Green</td>\n",
       "      <td>BR</td>\n",
       "      <td>Brazil</td>\n",
       "      <td>2013</td>\n",
       "      <td>2014</td>\n",
       "      <td>6</td>\n",
       "      <td>141</td>\n",
       "      <td>Rst,Ground Dom. Consum</td>\n",
       "      <td>2</td>\n",
       "      <td>(1000 60 KG BAGS)</td>\n",
       "      <td>19000</td>\n",
       "    </tr>\n",
       "    <tr>\n",
       "      <th>2</th>\n",
       "      <td>711100</td>\n",
       "      <td>Coffee, Green</td>\n",
       "      <td>BR</td>\n",
       "      <td>Brazil</td>\n",
       "      <td>2014</td>\n",
       "      <td>2018</td>\n",
       "      <td>6</td>\n",
       "      <td>141</td>\n",
       "      <td>Rst,Ground Dom. Consum</td>\n",
       "      <td>2</td>\n",
       "      <td>(1000 60 KG BAGS)</td>\n",
       "      <td>19130</td>\n",
       "    </tr>\n",
       "    <tr>\n",
       "      <th>3</th>\n",
       "      <td>711100</td>\n",
       "      <td>Coffee, Green</td>\n",
       "      <td>BR</td>\n",
       "      <td>Brazil</td>\n",
       "      <td>2015</td>\n",
       "      <td>2018</td>\n",
       "      <td>6</td>\n",
       "      <td>141</td>\n",
       "      <td>Rst,Ground Dom. Consum</td>\n",
       "      <td>2</td>\n",
       "      <td>(1000 60 KG BAGS)</td>\n",
       "      <td>19325</td>\n",
       "    </tr>\n",
       "    <tr>\n",
       "      <th>4</th>\n",
       "      <td>711100</td>\n",
       "      <td>Coffee, Green</td>\n",
       "      <td>BR</td>\n",
       "      <td>Brazil</td>\n",
       "      <td>2016</td>\n",
       "      <td>2018</td>\n",
       "      <td>6</td>\n",
       "      <td>141</td>\n",
       "      <td>Rst,Ground Dom. Consum</td>\n",
       "      <td>2</td>\n",
       "      <td>(1000 60 KG BAGS)</td>\n",
       "      <td>19750</td>\n",
       "    </tr>\n",
       "  </tbody>\n",
       "</table>\n",
       "</div>"
      ],
      "text/plain": [
       "   Commodity_Code Commodity_Description Country_Code Country_Name  \\\n",
       "0          711100         Coffee, Green           BR       Brazil   \n",
       "1          711100         Coffee, Green           BR       Brazil   \n",
       "2          711100         Coffee, Green           BR       Brazil   \n",
       "3          711100         Coffee, Green           BR       Brazil   \n",
       "4          711100         Coffee, Green           BR       Brazil   \n",
       "\n",
       "   Market_Year  Calendar_Year  Month  Attribute_ID   Attribute_Description  \\\n",
       "0         2012           2013      6           141  Rst,Ground Dom. Consum   \n",
       "1         2013           2014      6           141  Rst,Ground Dom. Consum   \n",
       "2         2014           2018      6           141  Rst,Ground Dom. Consum   \n",
       "3         2015           2018      6           141  Rst,Ground Dom. Consum   \n",
       "4         2016           2018      6           141  Rst,Ground Dom. Consum   \n",
       "\n",
       "   Unit_ID   Unit_Description  Value  \n",
       "0        2  (1000 60 KG BAGS)  18905  \n",
       "1        2  (1000 60 KG BAGS)  19000  \n",
       "2        2  (1000 60 KG BAGS)  19130  \n",
       "3        2  (1000 60 KG BAGS)  19325  \n",
       "4        2  (1000 60 KG BAGS)  19750  "
      ]
     },
     "execution_count": 6,
     "metadata": {},
     "output_type": "execute_result"
    }
   ],
   "source": [
    "#Second DataFrame\n",
    "Rst_Grnd_Dom_Consum_df.head()"
   ]
  },
  {
   "cell_type": "code",
   "execution_count": 45,
   "metadata": {},
   "outputs": [],
   "source": [
    "# Separate each country to create plots\n",
    "Brazil_RstGrndConsumption = Rst_Grnd_Dom_Consum_df.loc[(Domestic_Consumption_df['Country_Name'] == \"Brazil\")]\n",
    "EU_RstGrndConsumption = Rst_Grnd_Dom_Consum_df.loc[(Domestic_Consumption_df['Country_Name'] == \"European Union\")]\n",
    "Japan_RstGrndConsumption = Rst_Grnd_Dom_Consum_df.loc[(Domestic_Consumption_df['Country_Name'] == \"Japan\")]\n",
    "Philippines_RstGrndConsumption = Rst_Grnd_Dom_Consum_df.loc[(Domestic_Consumption_df['Country_Name'] == \"Philippines\")]\n",
    "US_RstGrndConsumption = Rst_Grnd_Dom_Consum_df.loc[(Domestic_Consumption_df['Country_Name'] == \"United States\")]"
   ]
  },
  {
   "cell_type": "code",
   "execution_count": 72,
   "metadata": {},
   "outputs": [
    {
     "data": {
      "text/plain": [
       "<matplotlib.figure.Figure at 0x1eab58c19e8>"
      ]
     },
     "metadata": {},
     "output_type": "display_data"
    },
    {
     "data": {
      "image/png": "[encoded data removed]",
      "text/plain": [
       "<matplotlib.figure.Figure at 0x1eab58c1ba8>"
      ]
     },
     "metadata": {},
     "output_type": "display_data"
    }
   ],
   "source": [
    "# Create plots for each country\n",
    "fig = plt.figure()\n",
    "plt.figure(figsize=(8, 5))\n",
    "ax = plt.axes()\n",
    "\n",
    "EU_RstGrndConsumption.plot(x='Market_Year', y = 'Value', color = \"khaki\", label = \"European Union\", ax=ax, linewidth=7)\n",
    "US_RstGrndConsumption.plot(x='Market_Year', y = 'Value', color = \"peru\", label = \"United States\", ax=ax, linewidth=7)\n",
    "Brazil_RstGrndConsumption.plot(x=\"Market_Year\", y = \"Value\", color = \"chocolate\", label = \"Brazil\", ax=ax, linewidth=7)\n",
    "Japan_RstGrndConsumption.plot(x='Market_Year', y = 'Value', color = \"sienna\", label = \"Japan\", ax=ax, linewidth=7)\n",
    "Philippines_RstGrndConsumption.plot(x='Market_Year', y = 'Value', color = \"saddlebrown\", label = \"Phillipines\", ax=ax, linewidth=7)\n",
    "\n",
    "plt.title(\"Roasted Ground Coffee Consumption: Top 5 Countries\")\n",
    "plt.xlabel(\"Market Year\")\n",
    "plt.ylabel(\"Amnt of 1,000 60k Bags\")\n",
    "\n",
    "plt.savefig(\"C:/Users/Jill Stratton/Desktop/Project_1_Coffee_Price_Predictors/Analysis/Rst_Ground_Consumption.png\")\n",
    "plt.show()"
   ]
  },
  {
   "cell_type": "code",
   "execution_count": null,
   "metadata": {},
   "outputs": [],
   "source": []
  }
 ],
 "metadata": {
  "kernelspec": {
   "display_name": "Python 3",
   "language": "python",
   "name": "python3"
  },
  "language_info": {
   "codemirror_mode": {
    "name": "ipython",
    "version": 3
   },
   "file_extension": ".py",
   "mimetype": "text/x-python",
   "name": "python",
   "nbconvert_exporter": "python",
   "pygments_lexer": "ipython3",
   "version": "3.6.4"
  }
 },
 "nbformat": 4,
 "nbformat_minor": 2
}
